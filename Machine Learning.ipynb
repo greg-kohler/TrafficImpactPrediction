{
 "cells": [
  {
   "cell_type": "markdown",
   "id": "7af8c0ff",
   "metadata": {},
   "source": [
    "### Train Model with Sport Road Segments "
   ]
  },
  {
   "cell_type": "code",
   "execution_count": 7,
   "id": "417a5980",
   "metadata": {},
   "outputs": [],
   "source": [
    "import pandas as pd\n",
    "from sklearn.model_selection import train_test_split\n",
    "from sklearn.linear_model import LinearRegression\n",
    "from sklearn.metrics import mean_squared_error, r2_score\n",
    "from sklearn.preprocessing import OneHotEncoder\n",
    "\n",
    "# Load the data from csv\n",
    "data = pd.read_csv('SampledData.csv')\n",
    "\n",
    "# Filter out rows where 'Sport' column equals 'line' \n",
    "data_filtered = data[data['Sport'] != 'line']\n",
    "\n",
    "#Select which columns we want to model\n",
    "cat_columns = ['Sport', 'Timestamp', 'Weekday?']\n",
    "\n",
    "# Perform one-hot encoding for all categorical columns\n",
    "encoder = OneHotEncoder()\n",
    "encoded_columns = pd.DataFrame(encoder.fit_transform(data_filtered[cat_columns]).toarray(), index=data_filtered.index)\n",
    "encoded_columns.columns = encoder.get_feature_names_out(cat_columns)\n",
    "\n",
    "# Select the columns that are numerical\n",
    "num_columns = data_filtered[['Latitude', 'Longitude']]\n",
    "\n",
    "# Combined the encoded categorical columns with the numerical ones\n",
    "X = pd.concat([num_columns, encoded_columns], axis=1)\n",
    "\n",
    "# Assign delta cost as Y\n",
    "y = data_filtered['delta_cost']\n",
    "\n",
    "# Split the dataset into training and testing sets (70% training, 30% testing)\n",
    "X_train, X_test, y_train, y_test = train_test_split(X, y, test_size=0.3, random_state=42)\n",
    "\n",
    "# Initializl model\n",
    "model = LinearRegression()\n",
    "\n",
    "# Fit the model on the training data\n",
    "model.fit(X_train, y_train)\n",
    "\n",
    "# Make predictions on the testing data\n",
    "y_pred = model.predict(X_test)\n",
    "\n",
    "# Evaluate the model\n",
    "mse = mean_squared_error(y_test, y_pred)\n",
    "r2 = r2_score(y_test, y_pred)"
   ]
  },
  {
   "cell_type": "markdown",
   "id": "9cb3002e",
   "metadata": {},
   "source": [
    "### Define Input Data"
   ]
  },
  {
   "cell_type": "code",
   "execution_count": 8,
   "id": "fd9b8a20",
   "metadata": {},
   "outputs": [],
   "source": [
    "input_data = pd.DataFrame({\n",
    "    'Sport': ['Football'],  # Example sport\n",
    "    'Timestamp': ['070000PM'],  # Example timestamp\n",
    "    'Weekday?': [True]  # Example weekday\n",
    "})"
   ]
  },
  {
   "cell_type": "markdown",
   "id": "ac2eb164",
   "metadata": {},
   "source": [
    "### Put Lat, Long, WKT, and Input into One Dataframe"
   ]
  },
  {
   "cell_type": "code",
   "execution_count": 9,
   "id": "470c58db",
   "metadata": {},
   "outputs": [],
   "source": [
    "def csv_to_dicts(csv_file):\n",
    "    \"\"\"Function to convert CSV to a DF Dictionary\"\"\"\n",
    "    df = pd.read_csv(csv_file, usecols=['Latitude', 'Longitude', 'geometry_wkt'])\n",
    "    data_dicts = df.to_dict(orient='records')\n",
    "    return data_dicts\n",
    "\n",
    "#Convert Base Data to Dict\n",
    "result = csv_to_dicts('ML_Base_data.csv')\n",
    "\n",
    "# Get lat and long values from the dictionary\n",
    "data_dicts = csv_to_dicts('ML_Base_data.csv')\n",
    "\n",
    "# Initialize an empty list\n",
    "data_frames = []\n",
    "\n",
    "for data_dict in data_dicts:\n",
    "    # Add lat, long, and wkt from each row in CSV\n",
    "    latitude = data_dict['Latitude']\n",
    "    longitude = data_dict['Longitude']\n",
    "    wkt = data_dict['geometry_wkt']\n",
    "    # Create a new dataframe with the same 'Sport', 'Timestamp', and 'Weekday?' values over and over\n",
    "    new_data = input_data.copy()\n",
    "    new_data['Latitude'] = latitude\n",
    "    new_data['Longitude'] = longitude\n",
    "    new_data['wkt'] = wkt\n",
    "    # Append the new dataframes to the list\n",
    "    data_frames.append(new_data)\n",
    "\n",
    "# Concatenate all the dataframe in the list\n",
    "output_data = pd.concat(data_frames, ignore_index=True)"
   ]
  },
  {
   "cell_type": "markdown",
   "id": "ceff9e46",
   "metadata": {},
   "source": [
    "### Predict Delta Cost"
   ]
  },
  {
   "cell_type": "code",
   "execution_count": 10,
   "id": "c668ad5b",
   "metadata": {},
   "outputs": [],
   "source": [
    "def predict_delta_cost(input_data, encoder, model):\n",
    "    \"\"\"Function that uses Linear Regression Model to predict delta cost based off of different variables\"\"\"\n",
    "    # Perform one-hot encoding for categorical columns in the input data\n",
    "    encoded_input = pd.DataFrame(encoder.transform(input_data[cat_columns]).toarray(), index=input_data.index)\n",
    "    encoded_input.columns = encoder.get_feature_names_out(cat_columns)\n",
    "    \n",
    "    # Combined the encoded categorical columns with the numerical ones\n",
    "    input_features = pd.concat([input_data[['Latitude', 'Longitude']], encoded_input], axis=1)\n",
    "    \n",
    "    # Predict delta cost\n",
    "    predicted_delta_cost = model.predict(input_features)\n",
    "    \n",
    "    # Add predicted delta cost to the input dataframe\n",
    "    input_data['delta_cost'] = predicted_delta_cost\n",
    "    \n",
    "    return input_data\n",
    "\n",
    "# Load dataframe from above\n",
    "input_data = output_data\n",
    "\n",
    "# Call the prediction function and convert to CSV\n",
    "output_data_delta = predict_delta_cost(input_data, encoder, model)\n",
    "output_data_delta.to_csv('outputtestdelta.csv', index=False)"
   ]
  },
  {
   "cell_type": "markdown",
   "id": "93369627",
   "metadata": {},
   "source": [
    "### User Selection (DOES NOT WORK)"
   ]
  },
  {
   "cell_type": "code",
   "execution_count": 10,
   "id": "7baf2494",
   "metadata": {},
   "outputs": [
    {
     "name": "stdout",
     "output_type": "stream",
     "text": [
      "Enter your preferred sport (Football, Volleyball, Basketball, Hockey): Volleyball\n",
      "Enter the time (format: HHMMSSAM/PM): 080000PM\n",
      "Is it a weekday? (True/False): True\n",
      "Sport: Volleyball\n",
      "Time: 080000PM\n",
      "Weekday? True\n"
     ]
    }
   ],
   "source": [
    "def get_sport_choice():\n",
    "    while True:\n",
    "        sport = input(\"Enter your preferred sport (Football, Volleyball, Basketball, Hockey): \").strip().capitalize()\n",
    "        if sport in ['Football', 'Volleyball', 'Basketball', 'Hockey']:\n",
    "            return sport\n",
    "        else:\n",
    "            print(\"Invalid sport choice. Please choose from Football, Volleyball, Basketball, or Hockey.\")\n",
    "\n",
    "def get_time():\n",
    "    while True:\n",
    "        time_input = input(\"Enter the time (format: HHMMSSAM/PM): \").strip().upper()\n",
    "        if len(time_input) == 8:\n",
    "            return time_input\n",
    "        else:\n",
    "            print(\"Invalid time format. Please enter time in the format HHMMSSAM/PM.\")\n",
    "\n",
    "def get_weekday():\n",
    "    while True:\n",
    "        weekday_input = input(\"Is it a weekday? (True/False): \").strip().capitalize()\n",
    "        if weekday_input in ['True', 'False']:\n",
    "            return weekday_input == 'True'\n",
    "        else:\n",
    "            print(\"Invalid input. Please enter True or False.\")\n",
    "\n",
    "# Get user inputs\n",
    "sport = get_sport_choice()\n",
    "time = get_time()\n",
    "weekday = get_weekday()\n",
    "\n",
    "# Output the collected information\n",
    "print(\"Sport:\", sport)\n",
    "print(\"Time:\", time)\n",
    "print(\"Weekday?\", weekday)\n"
   ]
  },
  {
   "cell_type": "code",
   "execution_count": null,
   "id": "2bb428e5",
   "metadata": {},
   "outputs": [],
   "source": []
  }
 ],
 "metadata": {
  "kernelspec": {
   "display_name": "Python 3 (ipykernel)",
   "language": "python",
   "name": "python3"
  },
  "language_info": {
   "codemirror_mode": {
    "name": "ipython",
    "version": 3
   },
   "file_extension": ".py",
   "mimetype": "text/x-python",
   "name": "python",
   "nbconvert_exporter": "python",
   "pygments_lexer": "ipython3",
   "version": "3.11.4"
  }
 },
 "nbformat": 4,
 "nbformat_minor": 5
}
