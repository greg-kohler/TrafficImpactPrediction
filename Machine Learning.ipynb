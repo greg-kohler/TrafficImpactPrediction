{
 "cells": [
  {
   "cell_type": "markdown",
   "id": "15db545c",
   "metadata": {},
   "source": [
    "### Train Model with Sport Road Segments "
   ]
  },
  {
   "cell_type": "code",
   "execution_count": 7,
   "id": "8dc0b709",
   "metadata": {},
   "outputs": [
    {
     "name": "stdout",
     "output_type": "stream",
     "text": [
      "Mean Squared Error: 0.03234144981396423\n",
      "R-squared Score: 0.0019414801746177046\n",
      "\n",
      "Model Coefficients:\n",
      "Latitude: -0.2423170746646312\n",
      "Longitude: -0.17264737497245283\n",
      "Sport_Basketball: 94260444.36481883\n",
      "Sport_Football: 94260444.36425596\n",
      "Sport_Hockey: 94260444.36277376\n",
      "Sport_Volleyball: 94260444.36521196\n",
      "Timestamp_010000PM: 2188619422.3687735\n",
      "Timestamp_011500PM: 2188619422.371376\n",
      "Timestamp_013000PM: 2188619422.366519\n",
      "Timestamp_020000PM: 2188619422.368259\n",
      "Timestamp_023000PM: 2188619422.36927\n",
      "Timestamp_030000PM: 2188619422.3675385\n",
      "Timestamp_033000PM: 2188619422.3652377\n",
      "Timestamp_040000PM: 2188619422.367567\n",
      "Timestamp_041500PM: 2188619422.364435\n",
      "Timestamp_043000PM: 2188619422.3664136\n",
      "Timestamp_050000PM: 2188619422.3675137\n",
      "Timestamp_053000PM: 2188619422.369517\n",
      "Timestamp_060000PM: 2188619422.3683214\n",
      "Timestamp_063000PM: 2188619422.3658524\n",
      "Timestamp_070000PM: 2188619422.367324\n",
      "Timestamp_071500PM: 2188619422.3671327\n",
      "Timestamp_073000PM: 2188619422.366307\n",
      "Timestamp_080000PM: 2188619422.365872\n",
      "Timestamp_081500PM: 2188619422.368591\n",
      "Timestamp_083000PM: 2188619422.3653126\n",
      "Timestamp_090000PM: 2188619422.3633475\n",
      "Timestamp_100000AM: 2188619422.2935224\n",
      "Timestamp_110000AM: 2188619422.36711\n",
      "Timestamp_113000AM: 2188619422.3678885\n",
      "Timestamp_120000PM: 2188619422.366583\n",
      "Timestamp_123000PM: 2188619422.366718\n",
      "Weekday?_False: 15895762440.457603\n",
      "Weekday?_True: 15895762440.458778\n",
      "Intercept: -18178642312.36268\n"
     ]
    }
   ],
   "source": [
    "import pandas as pd\n",
    "from sklearn.model_selection import train_test_split\n",
    "from sklearn.linear_model import LinearRegression\n",
    "from sklearn.metrics import mean_squared_error, r2_score\n",
    "from sklearn.preprocessing import OneHotEncoder\n",
    "\n",
    "# Load the data from the CSV file into a DataFrame\n",
    "data = pd.read_csv('SampledData.csv')\n",
    "\n",
    "# Filter out rows where 'Sport' column equals 'line'\n",
    "data_filtered = data[data['Sport'] != 'line']\n",
    "\n",
    "# Select the categorical columns of interest\n",
    "categorical_columns = ['Sport', 'Timestamp', 'Weekday?']\n",
    "\n",
    "# Perform one-hot encoding for all categorical columns\n",
    "encoder = OneHotEncoder()\n",
    "encoded_columns = pd.DataFrame(encoder.fit_transform(data_filtered[categorical_columns]).toarray(), index=data_filtered.index)\n",
    "encoded_columns.columns = encoder.get_feature_names_out(categorical_columns)\n",
    "\n",
    "# Select the numerical columns\n",
    "numerical_columns = data_filtered[['Latitude', 'Longitude']]\n",
    "\n",
    "# Concatenate the encoded categorical columns with the numerical ones\n",
    "X = pd.concat([numerical_columns, encoded_columns], axis=1)\n",
    "\n",
    "# Assuming 'delta_cost' is the column you want to predict\n",
    "y = data_filtered['delta_cost']\n",
    "\n",
    "# Split the dataset into training and testing sets (70% training, 30% testing)\n",
    "X_train, X_test, y_train, y_test = train_test_split(X, y, test_size=0.3, random_state=42)\n",
    "\n",
    "# Initialize the Linear Regression model\n",
    "model = LinearRegression()\n",
    "\n",
    "# Fit the model on the training data\n",
    "model.fit(X_train, y_train)\n",
    "\n",
    "# Make predictions on the testing data\n",
    "y_pred = model.predict(X_test)\n",
    "\n",
    "# Evaluate the model\n",
    "mse = mean_squared_error(y_test, y_pred)\n",
    "r2 = r2_score(y_test, y_pred)\n",
    "\n",
    "# Print the evaluation metrics\n",
    "print(\"Mean Squared Error:\", mse)\n",
    "print(\"R-squared Score:\", r2)\n",
    "\n",
    "# Print the coefficients and intercept of the model\n",
    "print(\"\\nModel Coefficients:\")\n",
    "for feature, coef in zip(X.columns, model.coef_):\n",
    "    print(f\"{feature}: {coef}\")\n",
    "print(\"Intercept:\", model.intercept_)"
   ]
  },
  {
   "cell_type": "markdown",
   "id": "1044b089",
   "metadata": {},
   "source": [
    "### Get delta cost using model"
   ]
  },
  {
   "cell_type": "code",
   "execution_count": 10,
   "id": "fbc672c1",
   "metadata": {},
   "outputs": [
    {
     "name": "stdout",
     "output_type": "stream",
     "text": [
      "Predicted Delta Cost: [0.04201126]\n"
     ]
    }
   ],
   "source": [
    "def predict_delta_cost(input_data):\n",
    "    # Perform one-hot encoding for categorical columns in the input data\n",
    "    encoded_input = pd.DataFrame(encoder.transform(input_data[categorical_columns]).toarray(), index=input_data.index)\n",
    "    encoded_input.columns = encoder.get_feature_names_out(categorical_columns)\n",
    "    \n",
    "    # Concatenate the encoded categorical columns with the numerical ones\n",
    "    input_features = pd.concat([input_data[['Latitude', 'Longitude']], encoded_input], axis=1)\n",
    "    \n",
    "    # Predict delta cost\n",
    "    predicted_delta_cost = model.predict(input_features)\n",
    "    \n",
    "    return predicted_delta_cost\n",
    "\n",
    "# Example usage:\n",
    "input_data = pd.DataFrame({\n",
    "    'Latitude': [44.93864000000005],  # Example latitude\n",
    "    'Longitude': [-93.2752849999999],  # Example longitude\n",
    "    'Sport': ['Football'],  # Example sport\n",
    "    'Timestamp': ['070000PM'],  # Example timestamp\n",
    "    'Weekday?': [True]  # Example weekday\n",
    "})\n",
    "\n",
    "predicted_cost = predict_delta_cost(input_data)\n",
    "print(\"Predicted Delta Cost:\", predicted_cost)"
   ]
  },
  {
   "cell_type": "markdown",
   "id": "9b6a7b9f",
   "metadata": {},
   "source": [
    "### Put Columns for Model into Dictionary"
   ]
  },
  {
   "cell_type": "code",
   "execution_count": 3,
   "id": "d102559a",
   "metadata": {},
   "outputs": [],
   "source": [
    "import pandas as pd\n",
    "\n",
    "def csv_to_dicts(csv_file):\n",
    "    df = pd.read_csv(csv_file, usecols=['Sport', 'Timestamp', 'Weekday?'])\n",
    "    data_dicts = df.to_dict(orient='records')\n",
    "    return data_dicts\n",
    "\n",
    "# Example usage:\n",
    "csv_file = 'AllTrafficCost.csv'  # Replace 'your_csv_file.csv' with the path to your CSV file\n",
    "result = csv_to_dicts(csv_file)\n"
   ]
  },
  {
   "cell_type": "code",
   "execution_count": null,
   "id": "281e0199",
   "metadata": {},
   "outputs": [],
   "source": []
  }
 ],
 "metadata": {
  "kernelspec": {
   "display_name": "Python 3 (ipykernel)",
   "language": "python",
   "name": "python3"
  },
  "language_info": {
   "codemirror_mode": {
    "name": "ipython",
    "version": 3
   },
   "file_extension": ".py",
   "mimetype": "text/x-python",
   "name": "python",
   "nbconvert_exporter": "python",
   "pygments_lexer": "ipython3",
   "version": "3.11.4"
  }
 },
 "nbformat": 4,
 "nbformat_minor": 5
}
