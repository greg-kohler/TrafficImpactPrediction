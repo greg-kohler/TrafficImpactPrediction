{
 "cells": [
  {
   "cell_type": "markdown",
   "metadata": {},
   "source": [
    "### All Data into Geodatabase"
   ]
  },
  {
   "cell_type": "code",
   "execution_count": 2,
   "metadata": {},
   "outputs": [
    {
     "data": {
      "text/html": [
       "<div class='gpresult'><h2>Messages</h2><div id='messages' data-messages='[\"Start Time: Thursday, February 29, 2024 4:16:32 PM\",\"Succeeded at Thursday, February 29, 2024 4:16:33 PM (Elapsed Time: 0.69 seconds)\"]' data-show='true'><div id = 'default' /></div></div>"
      ],
      "text/plain": [
       "<Result '\\\\\\\\Mac\\\\Home\\\\Documents\\\\ArcGIS\\\\Projects\\\\MyProject1\\\\Lab2.gdb'>"
      ]
     },
     "execution_count": 2,
     "metadata": {},
     "output_type": "execute_result"
    }
   ],
   "source": [
    "#Create local geodatabase\n",
    "import os\n",
    "gdb_path = os.path.dirname(arcpy.mp.ArcGISProject('CURRENT').filePath)\n",
    "os.chdir(gdb_path)\n",
    "\n",
    "arcpy.management.CreateFileGDB(gdb_path, \"Lab2\")"
   ]
  },
  {
   "cell_type": "code",
   "execution_count": 6,
   "metadata": {
    "scrolled": true
   },
   "outputs": [
    {
     "data": {
      "text/html": [
       "<div class='gpresult'><h2>Messages</h2><div id='messages' data-messages='[\"Start Time: Thursday, February 29, 2024 4:21:18 PM\",\"Succeeded at Thursday, February 29, 2024 4:21:24 PM (Elapsed Time: 6.39 seconds)\"]' data-show='true'><div id = 'default' /></div></div>"
      ],
      "text/plain": [
       "<Result '\\\\\\\\Mac\\\\Home\\\\Documents\\\\ArcGIS\\\\Projects\\\\MyProject1\\\\Lab2.sde'>"
      ]
     },
     "execution_count": 6,
     "metadata": {},
     "output_type": "execute_result"
    }
   ],
   "source": [
    "#Create Connection to Cloud Database\n",
    "import arcpy\n",
    "\n",
    "gdb_path = os.path.dirname(arcpy.mp.ArcGISProject('CURRENT').filePath)\n",
    "arcpy.env.workspace = gdb_path\n",
    "\n",
    "out_folder_path = arcpy.env.workspace\n",
    "out_name = \"Lab2.sde\"\n",
    "database_platform = \"POSTGRESQL\"\n",
    "instance = \"35.224.48.126\"\n",
    "account_authentication = \"DATABASE_AUTH\"\n",
    "username = \"postgres\"\n",
    "password = \"mypassword123\"\n",
    "save_user_pass = \"SAVE_USERNAME\"\n",
    "database = \"gis5572\"\n",
    "\n",
    "arcpy.management.CreateDatabaseConnection(out_folder_path, out_name, database_platform, instance, account_authentication, username, password, save_user_pass, database)"
   ]
  },
  {
   "cell_type": "code",
   "execution_count": null,
   "metadata": {},
   "outputs": [],
   "source": [
    "#Put everything into local geodatabase and cloud database\n",
    "import os\n",
    "import arcpy\n",
    "# Path to current directory\n",
    "gdb_path = os.path.dirname(arcpy.mp.ArcGISProject('CURRENT').filePath)\n",
    "# Set the workspace environment\n",
    "paths = [\"\\Lab2.gdb\", \"\\Lab2.sde\"]\n",
    "for path in paths:\n",
    "    arcpy.env.workspace = gdb_path + path\n",
    "    # Construct input and output paths using os.path.join\n",
    "    input_raster1 = os.path.join(gdb_path, \"Commons_Data\", \"elev_30m_digital_elevation_model.gdb\", \"digital_elevation_model_30m\")\n",
    "    input_raster2 = os.path.join(gdb_path, \"Commons_Data\", \"NLCD_2019_Land_Cover.tif\")\n",
    "    input_table1 = os.path.join(gdb_path, \"temperature_data.csv\")\n",
    "    input_table2 = os.path.join(gdb_path, \"qaqc_schedule.csv\")\n",
    "    input_line1 = os.path.join(gdb_path, \"no_traffic_layer_line.shp\")\n",
    "    input_line2 = os.path.join(gdb_path, \"traffic_layer_line.shp\")\n",
    "    arcpy.conversion.FeatureClassToGeodatabase(input_line1, arcpy.env.workspace)\n",
    "    arcpy.conversion.FeatureClassToGeodatabase(input_line2, arcpy.env.workspace)\n",
    "    arcpy.conversion.RasterToGeodatabase(input_raster1, arcpy.env.workspace)\n",
    "    arcpy.conversion.RasterToGeodatabase(input_raster2, arcpy.env.workspace)\n",
    "    arcpy.TableToGeodatabase_conversion(input_table1, arcpy.env.workspace)\n",
    "    arcpy.TableToGeodatabase_conversion(input_table2, arcpy.env.workspace)"
   ]
  }
 ],
 "metadata": {
  "kernelspec": {
   "display_name": "ArcGISPro",
   "language": "Python",
   "name": "python3"
  },
  "language_info": {
   "file_extension": ".py",
   "name": "python",
   "version": "3"
  }
 },
 "nbformat": 4,
 "nbformat_minor": 2
}
