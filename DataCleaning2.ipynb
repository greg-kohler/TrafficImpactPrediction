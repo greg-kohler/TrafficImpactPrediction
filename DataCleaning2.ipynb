{
 "cells": [
  {
   "cell_type": "markdown",
   "id": "b001d633-acdd-41c0-8ca9-89b05046c150",
   "metadata": {},
   "source": [
    "# Data Cleaning 2: aka Machine Learning Data Prep\n",
    "\n",
    "This file prepares two datasets so they can be directly input into the machine learning code.\n",
    "\n",
    "Dataset 1: ML_Base_data --> this is a csv file that holds the traffic lines for our baseline data. The machine learning model can make predictions for these road segments.\n",
    "\n",
    "Dataset 2: SampledData --> our initial dataset with all the sports data is way too large to work with efficiently, so we subset for easier use.\n"
   ]
  },
  {
   "cell_type": "markdown",
   "id": "4a86a47c-5fee-4a94-b33c-949d872fb693",
   "metadata": {},
   "source": [
    "# Prepping Baseline Data\n",
    "\n",
    "We want to have an easy dataset to be able to apply our machine learning model and show results on a map."
   ]
  },
  {
   "cell_type": "code",
   "execution_count": 2,
   "id": "a5f15b92-8c7c-4068-b63d-25d8b12443c1",
   "metadata": {},
   "outputs": [
    {
     "name": "stderr",
     "output_type": "stream",
     "text": [
      "C:\\Users\\Logan\\AppData\\Local\\Temp\\ipykernel_12272\\2895185673.py:10: UserWarning: Geometry is in a geographic CRS. Results from 'centroid' are likely incorrect. Use 'GeoSeries.to_crs()' to re-project geometries to a projected CRS before this operation.\n",
      "\n",
      "  gdf['Latitude'] = gdf['geometry'].centroid.y\n",
      "C:\\Users\\Logan\\AppData\\Local\\Temp\\ipykernel_12272\\2895185673.py:11: UserWarning: Geometry is in a geographic CRS. Results from 'centroid' are likely incorrect. Use 'GeoSeries.to_crs()' to re-project geometries to a projected CRS before this operation.\n",
      "\n",
      "  gdf['Longitude'] = gdf['geometry'].centroid.x\n"
     ]
    },
    {
     "name": "stdout",
     "output_type": "stream",
     "text": [
      "Saved\n"
     ]
    }
   ],
   "source": [
    "#import statements\n",
    "import geopandas as gpd\n",
    "import os\n",
    "from datetime import datetime\n",
    "from shapely.geometry import LineString\n",
    "    \n",
    "#read the shapefile\n",
    "gdf = gpd.read_file(r\"C:\\Users\\Logan\\Desktop\\School Files\\GIS 5572\\Final\\BaseLines\\no_traffic_lines.shp\")\n",
    "\n",
    "#calculate the 'Latitude' and 'Longitude' based on the center of the Line String\n",
    "gdf['Latitude'] = gdf['geometry'].centroid.y\n",
    "gdf['Longitude'] = gdf['geometry'].centroid.x\n",
    "gdf['geometry_wkt'] = gdf['geometry'].to_wkt()\n",
    "#calculate segment length and distance from the road line data\n",
    "gdf['SegmentLength'] = gdf['FromCumu_2'] - gdf['ToCumul_Ki']\n",
    "gdf['Distance'] = (gdf['FromCumu_2'] + gdf['ToCumul_Ki']) / 2\n",
    "\n",
    "#select we want to be used\n",
    "columns_to_keep = {\n",
    "    'SourceOID': 'SourceOID',\n",
    "    'Latitude': 'Latitude',\n",
    "    'Longitude': 'Longitude',\n",
    "    'geometry_wkt' : 'geometry_wkt',\n",
    "    'SegmentLength' : 'SegmentLength',\n",
    "    'Distance' : 'Distance'\n",
    "}\n",
    "gdf = gdf.rename(columns=columns_to_keep)[list(columns_to_keep.values())]\n",
    "\n",
    "#save to CSV\n",
    "gdf.to_csv(r\"C:\\Users\\Logan\\Desktop\\School Files\\GIS 5572\\Final\\ML_Base_data_new.csv\", index=False)\n",
    "print(f\"Saved\")"
   ]
  },
  {
   "cell_type": "markdown",
   "id": "a312beb2-58e0-4f06-ae31-eaddf3207850",
   "metadata": {},
   "source": [
    "# Subsetting our full sporting event dataset\n",
    "\n",
    "The full sporting dataset is very large, so we want to utilize a smaller size"
   ]
  },
  {
   "cell_type": "code",
   "execution_count": null,
   "id": "5b8a3a5a-d87e-4c82-8ac5-b729ac026132",
   "metadata": {},
   "outputs": [],
   "source": [
    "#imports\n",
    "import os\n",
    "import pandas as pd\n",
    "\n",
    "#load the large dataset from the CSV file into a DataFrame\n",
    "data = pd.read_csv(r\"C:\\Users\\Logan\\Desktop\\School Files\\GIS 5572\\Final\\AllTrafficCost3.csv\")\n",
    "\n",
    "#create a random sample of 20% of the data\n",
    "sampled_data = data.sample(frac=0.2, random_state=42)\n",
    "\n",
    "#save the sampled data to a new CSV file\n",
    "sampled_data.to_csv('SampledData2.csv', index=False)"
   ]
  }
 ],
 "metadata": {
  "kernelspec": {
   "display_name": "Python 3 (ipykernel)",
   "language": "python",
   "name": "python3"
  },
  "language_info": {
   "codemirror_mode": {
    "name": "ipython",
    "version": 3
   },
   "file_extension": ".py",
   "mimetype": "text/x-python",
   "name": "python",
   "nbconvert_exporter": "python",
   "pygments_lexer": "ipython3",
   "version": "3.11.5"
  }
 },
 "nbformat": 4,
 "nbformat_minor": 5
}
