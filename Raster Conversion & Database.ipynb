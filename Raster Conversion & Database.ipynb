{
 "cells": [
  {
   "cell_type": "markdown",
   "metadata": {},
   "source": [
    "### All Data into Geodatabase"
   ]
  },
  {
   "cell_type": "code",
   "execution_count": 2,
   "metadata": {},
   "outputs": [
    {
     "data": {
      "text/html": [
       "<div class='gpresult'><h2>Messages</h2><div id='messages' data-messages='[\"Start Time: Thursday, February 29, 2024 4:16:32 PM\",\"Succeeded at Thursday, February 29, 2024 4:16:33 PM (Elapsed Time: 0.69 seconds)\"]' data-show='true'><div id = 'default' /></div></div>"
      ],
      "text/plain": [
       "<Result '\\\\\\\\Mac\\\\Home\\\\Documents\\\\ArcGIS\\\\Projects\\\\MyProject1\\\\Lab2.gdb'>"
      ]
     },
     "execution_count": 2,
     "metadata": {},
     "output_type": "execute_result"
    }
   ],
   "source": [
    "#Create local geodatabase\n",
    "import os\n",
    "gdb_path = os.path.dirname(arcpy.mp.ArcGISProject('CURRENT').filePath)\n",
    "os.chdir(gdb_path)\n",
    "\n",
    "arcpy.management.CreateFileGDB(gdb_path, \"Lab2\")"
   ]
  },
  {
   "cell_type": "code",
   "execution_count": 6,
   "metadata": {
    "scrolled": true
   },
   "outputs": [
    {
     "data": {
      "text/html": [
       "<div class='gpresult'><h2>Messages</h2><div id='messages' data-messages='[\"Start Time: Thursday, February 29, 2024 4:21:18 PM\",\"Succeeded at Thursday, February 29, 2024 4:21:24 PM (Elapsed Time: 6.39 seconds)\"]' data-show='true'><div id = 'default' /></div></div>"
      ],
      "text/plain": [
       "<Result '\\\\\\\\Mac\\\\Home\\\\Documents\\\\ArcGIS\\\\Projects\\\\MyProject1\\\\Lab2.sde'>"
      ]
     },
     "execution_count": 6,
     "metadata": {},
     "output_type": "execute_result"
    }
   ],
   "source": [
    "#Create Connection to Cloud Database\n",
    "import arcpy\n",
    "\n",
    "gdb_path = os.path.dirname(arcpy.mp.ArcGISProject('CURRENT').filePath)\n",
    "arcpy.env.workspace = gdb_path\n",
    "\n",
    "out_folder_path = arcpy.env.workspace\n",
    "out_name = \"Lab2.sde\"\n",
    "database_platform = \"POSTGRESQL\"\n",
    "instance = \"35.224.48.126\"\n",
    "account_authentication = \"DATABASE_AUTH\"\n",
    "username = \"postgres\"\n",
    "password = \"mypassword123\"\n",
    "save_user_pass = \"SAVE_USERNAME\"\n",
    "database = \"gis5572\"\n",
    "\n",
    "arcpy.management.CreateDatabaseConnection(out_folder_path, out_name, database_platform, instance, account_authentication, username, password, save_user_pass, database)"
   ]
  },
  {
   "cell_type": "code",
   "execution_count": 2,
   "metadata": {},
   "outputs": [
    {
     "name": "stdout",
     "output_type": "stream",
     "text": [
      "raster1_resampled\n",
      "raster2_resampled\n",
      "raster1_topoint\n",
      "raster2_topoint\n"
     ]
    }
   ],
   "source": [
    "#Insert rasters as point data into local geodatase\n",
    "import os\n",
    "gdb_path = os.path.dirname(arcpy.mp.ArcGISProject('CURRENT').filePath)\n",
    "arcpy.env.workspace = gdb_path\n",
    "\n",
    "input_raster1 = os.path.join(gdb_path, \"Commons_Data\", \"elev_30m_digital_elevation_model.gdb\", \"digital_elevation_model_30m\")\n",
    "output_raster1 = os.path.join(gdb_path, \"Lab2.gdb\", \"elevation_sampled\")\n",
    "output_points1 = os.path.join(gdb_path, \"Lab2.gdb\", \"elevation_point\")\n",
    "input_raster2 = os.path.join(gdb_path, \"Commons_Data\", \"NLCD_2019_Land_Cover.tif\")\n",
    "output_raster2 = os.path.join(gdb_path, \"Lab2.gdb\", \"landcover_sampled\")\n",
    "output_points2 = os.path.join(gdb_path, \"Lab2.gdb\", \"landcover_point\")\n",
    "\n",
    "arcpy.management.Resample(\n",
    "    in_raster=input_raster1,\n",
    "    out_raster=output_raster1,\n",
    "    cell_size=\"120 120\",\n",
    "    resampling_type=\"NEAREST\")\n",
    "print(\"raster1_resampled\")\n",
    "arcpy.management.Resample(\n",
    "    in_raster=input_raster2,\n",
    "    out_raster=output_raster2,\n",
    "    cell_size=\"120 120\",\n",
    "    resampling_type=\"NEAREST\")\n",
    "print(\"raster2_resampled\")\n",
    "\n",
    "arcpy.conversion.RasterToPoint(\n",
    "    in_raster= output_raster1,\n",
    "    out_point_features=output_points1,\n",
    "    raster_field=\"VALUE\")\n",
    "print(\"raster1_topoint\")\n",
    "arcpy.conversion.RasterToPoint(\n",
    "    in_raster= output_raster2,\n",
    "    out_point_features=output_points2,\n",
    "    raster_field=\"VALUE\")\n",
    "print(\"raster2_topoint\")"
   ]
  },
  {
   "cell_type": "code",
   "execution_count": 3,
   "metadata": {},
   "outputs": [
    {
     "data": {
      "text/html": [
       "<div class='gpresult'><h2>Messages</h2><div id='messages' data-messages='[\"Start Time: Friday, March 1, 2024 11:24:23 AM\",\"Converted \\\\\\\\Mac\\\\Home\\\\Documents\\\\ArcGIS\\\\Projects\\\\MyProject1\\\\qaqc_schedule.csv to \\\\\\\\Mac\\\\Home\\\\Documents\\\\ArcGIS\\\\Projects\\\\MyProject1\\\\Lab2.gdb\\\\qaqc_schedule successfully.\",\"Succeeded at Friday, March 1, 2024 11:24:27 AM (Elapsed Time: 3.91 seconds)\"]' data-show='true'><div id = 'default' /></div></div>"
      ],
      "text/plain": [
       "<Result '\\\\\\\\Mac\\\\Home\\\\Documents\\\\ArcGIS\\\\Projects\\\\MyProject1\\\\Lab2.gdb'>"
      ]
     },
     "execution_count": 3,
     "metadata": {},
     "output_type": "execute_result"
    }
   ],
   "source": [
    "#Put everything else into local geodatabase\n",
    "arcpy.env.workspace = gdb_path + \"\\Lab2.gdb\"\n",
    "input_table1 = os.path.join(gdb_path, \"temperature_data.csv\")\n",
    "input_table2 = os.path.join(gdb_path, \"qaqc_schedule.csv\")\n",
    "input_line1 = os.path.join(gdb_path, \"no_traffic_layer_line.shp\")\n",
    "input_line2 = os.path.join(gdb_path, \"traffic_layer_line.shp\")\n",
    "arcpy.conversion.FeatureClassToGeodatabase(input_line1, arcpy.env.workspace)\n",
    "arcpy.conversion.FeatureClassToGeodatabase(input_line2, arcpy.env.workspace)\n",
    "arcpy.TableToGeodatabase_conversion(input_table1, arcpy.env.workspace)\n",
    "arcpy.TableToGeodatabase_conversion(input_table2, arcpy.env.workspace)"
   ]
  },
  {
   "cell_type": "code",
   "execution_count": 7,
   "metadata": {},
   "outputs": [
    {
     "name": "stdout",
     "output_type": "stream",
     "text": [
      "No Traffic Lines in DB\n",
      "Traffic Lines in DB\n",
      "Elevation in DB\n",
      "Land Cover in DB\n",
      "Temperature in DB\n",
      "Sport Schedule in DB\n"
     ]
    }
   ],
   "source": [
    "#Put everything into cloud database\n",
    "#Takes a long time\n",
    "import os\n",
    "import arcpy\n",
    "# Path to current directory\n",
    "gdb_path = os.path.dirname(arcpy.mp.ArcGISProject('CURRENT').filePath)\n",
    "os.chdir(gdb_path)\n",
    "# Set the workspace environment\n",
    "arcpy.env.workspace = gdb_path + \"\\Lab2.gdb\"\n",
    "input_point1 = os.path.join(arcpy.env.workspace, \"elevation_point\")\n",
    "input_point2 = os.path.join(arcpy.env.workspace, \"landcover_point\")\n",
    "input_table1 = os.path.join(arcpy.env.workspace, \"temperature_data\")\n",
    "input_table2 = os.path.join(arcpy.env.workspace, \"qaqc_schedule\")\n",
    "input_line1 = os.path.join(arcpy.env.workspace, \"no_traffic_layer_line\")\n",
    "input_line2 = os.path.join(arcpy.env.workspace, \"traffic_layer_line\")\n",
    "arcpy.env.workspace = gdb_path + \"\\Lab2.sde\"\n",
    "arcpy.conversion.FeatureClassToGeodatabase(input_line1, arcpy.env.workspace)\n",
    "print(\"No Traffic Lines in DB\")\n",
    "arcpy.conversion.FeatureClassToGeodatabase(input_line2, arcpy.env.workspace)\n",
    "print(\"Traffic Lines in DB\")\n",
    "arcpy.conversion.FeatureClassToGeodatabase(input_point1, arcpy.env.workspace)\n",
    "print(\"Elevation in DB\")\n",
    "arcpy.conversion.FeatureClassToGeodatabase(input_point2, arcpy.env.workspace)\n",
    "print(\"Land Cover in DB\")\n",
    "arcpy.TableToGeodatabase_conversion(input_table1, arcpy.env.workspace)\n",
    "print(\"Temperature in DB\")\n",
    "arcpy.TableToGeodatabase_conversion(input_table2, arcpy.env.workspace)\n",
    "print(\"Sport Schedule in DB\")"
   ]
  },
  {
   "cell_type": "code",
   "execution_count": null,
   "metadata": {},
   "outputs": [],
   "source": []
  }
 ],
 "metadata": {
  "kernelspec": {
   "display_name": "ArcGISPro",
   "language": "Python",
   "name": "python3"
  },
  "language_info": {
   "file_extension": ".py",
   "name": "python",
   "version": "3"
  }
 },
 "nbformat": 4,
 "nbformat_minor": 2
}
